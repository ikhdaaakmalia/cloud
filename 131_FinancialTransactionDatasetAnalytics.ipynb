{
  "nbformat": 4,
  "nbformat_minor": 0,
  "metadata": {
    "colab": {
      "provenance": [],
      "authorship_tag": "ABX9TyNZaFeF/RXsVnJZdT7fAoRN",
      "include_colab_link": true
    },
    "kernelspec": {
      "name": "python3",
      "display_name": "Python 3"
    },
    "language_info": {
      "name": "python"
    }
  },
  "cells": [
    {
      "cell_type": "markdown",
      "metadata": {
        "id": "view-in-github",
        "colab_type": "text"
      },
      "source": [
        "<a href=\"https://colab.research.google.com/github/ikhdaaakmalia/cloud/blob/main/131_FinancialTransactionDatasetAnalytics.ipynb\" target=\"_parent\"><img src=\"https://colab.research.google.com/assets/colab-badge.svg\" alt=\"Open In Colab\"/></a>"
      ]
    },
    {
      "cell_type": "markdown",
      "source": [
        "# **Financial Transactions Dataset: Analytics**"
      ],
      "metadata": {
        "id": "GVt3WoA8xhWa"
      }
    },
    {
      "cell_type": "code",
      "execution_count": null,
      "metadata": {
        "colab": {
          "base_uri": "https://localhost:8080/"
        },
        "id": "bLL4Dy4MxZYj",
        "outputId": "95de6359-3768-4632-9ae9-d97d6b13caf1"
      },
      "outputs": [
        {
          "output_type": "stream",
          "name": "stdout",
          "text": [
            "Requirement already satisfied: kaggle in /usr/local/lib/python3.11/dist-packages (1.7.4.5)\n",
            "Requirement already satisfied: bleach in /usr/local/lib/python3.11/dist-packages (from kaggle) (6.2.0)\n",
            "Requirement already satisfied: certifi>=14.05.14 in /usr/local/lib/python3.11/dist-packages (from kaggle) (2025.6.15)\n",
            "Requirement already satisfied: charset-normalizer in /usr/local/lib/python3.11/dist-packages (from kaggle) (3.4.2)\n",
            "Requirement already satisfied: idna in /usr/local/lib/python3.11/dist-packages (from kaggle) (3.10)\n",
            "Requirement already satisfied: protobuf in /usr/local/lib/python3.11/dist-packages (from kaggle) (5.29.5)\n",
            "Requirement already satisfied: python-dateutil>=2.5.3 in /usr/local/lib/python3.11/dist-packages (from kaggle) (2.9.0.post0)\n",
            "Requirement already satisfied: python-slugify in /usr/local/lib/python3.11/dist-packages (from kaggle) (8.0.4)\n",
            "Requirement already satisfied: requests in /usr/local/lib/python3.11/dist-packages (from kaggle) (2.32.3)\n",
            "Requirement already satisfied: setuptools>=21.0.0 in /usr/local/lib/python3.11/dist-packages (from kaggle) (75.2.0)\n",
            "Requirement already satisfied: six>=1.10 in /usr/local/lib/python3.11/dist-packages (from kaggle) (1.17.0)\n",
            "Requirement already satisfied: text-unidecode in /usr/local/lib/python3.11/dist-packages (from kaggle) (1.3)\n",
            "Requirement already satisfied: tqdm in /usr/local/lib/python3.11/dist-packages (from kaggle) (4.67.1)\n",
            "Requirement already satisfied: urllib3>=1.15.1 in /usr/local/lib/python3.11/dist-packages (from kaggle) (2.4.0)\n",
            "Requirement already satisfied: webencodings in /usr/local/lib/python3.11/dist-packages (from kaggle) (0.5.1)\n",
            "Requirement already satisfied: pandas in /usr/local/lib/python3.11/dist-packages (2.2.2)\n",
            "Requirement already satisfied: numpy>=1.23.2 in /usr/local/lib/python3.11/dist-packages (from pandas) (2.0.2)\n",
            "Requirement already satisfied: python-dateutil>=2.8.2 in /usr/local/lib/python3.11/dist-packages (from pandas) (2.9.0.post0)\n",
            "Requirement already satisfied: pytz>=2020.1 in /usr/local/lib/python3.11/dist-packages (from pandas) (2025.2)\n",
            "Requirement already satisfied: tzdata>=2022.7 in /usr/local/lib/python3.11/dist-packages (from pandas) (2025.2)\n",
            "Requirement already satisfied: six>=1.5 in /usr/local/lib/python3.11/dist-packages (from python-dateutil>=2.8.2->pandas) (1.17.0)\n"
          ]
        }
      ],
      "source": [
        "#install library di kaggle\n",
        "!pip install kaggle\n",
        "!pip install pandas"
      ]
    },
    {
      "cell_type": "code",
      "source": [
        "#upload file kaggle.json\n",
        "from google.colab import files\n",
        "files.upload()\n",
        "\n",
        "#simpan API key dan atur izin akses\n",
        "!mkdir ~/.kaggle\n",
        "!cp kaggle.json ~/.kaggle/\n",
        "!chmod 600 ~/.kaggle/kaggle.json"
      ],
      "metadata": {
        "colab": {
          "base_uri": "https://localhost:8080/",
          "height": 73
        },
        "id": "gMy85GEbxgtm",
        "outputId": "bc943783-1411-4482-bae0-6fe64cdad1ef"
      },
      "execution_count": null,
      "outputs": [
        {
          "output_type": "display_data",
          "data": {
            "text/plain": [
              "<IPython.core.display.HTML object>"
            ],
            "text/html": [
              "\n",
              "     <input type=\"file\" id=\"files-17b14d62-a7bd-45c3-a3d1-c92abd03fcbb\" name=\"files[]\" multiple disabled\n",
              "        style=\"border:none\" />\n",
              "     <output id=\"result-17b14d62-a7bd-45c3-a3d1-c92abd03fcbb\">\n",
              "      Upload widget is only available when the cell has been executed in the\n",
              "      current browser session. Please rerun this cell to enable.\n",
              "      </output>\n",
              "      <script>// Copyright 2017 Google LLC\n",
              "//\n",
              "// Licensed under the Apache License, Version 2.0 (the \"License\");\n",
              "// you may not use this file except in compliance with the License.\n",
              "// You may obtain a copy of the License at\n",
              "//\n",
              "//      http://www.apache.org/licenses/LICENSE-2.0\n",
              "//\n",
              "// Unless required by applicable law or agreed to in writing, software\n",
              "// distributed under the License is distributed on an \"AS IS\" BASIS,\n",
              "// WITHOUT WARRANTIES OR CONDITIONS OF ANY KIND, either express or implied.\n",
              "// See the License for the specific language governing permissions and\n",
              "// limitations under the License.\n",
              "\n",
              "/**\n",
              " * @fileoverview Helpers for google.colab Python module.\n",
              " */\n",
              "(function(scope) {\n",
              "function span(text, styleAttributes = {}) {\n",
              "  const element = document.createElement('span');\n",
              "  element.textContent = text;\n",
              "  for (const key of Object.keys(styleAttributes)) {\n",
              "    element.style[key] = styleAttributes[key];\n",
              "  }\n",
              "  return element;\n",
              "}\n",
              "\n",
              "// Max number of bytes which will be uploaded at a time.\n",
              "const MAX_PAYLOAD_SIZE = 100 * 1024;\n",
              "\n",
              "function _uploadFiles(inputId, outputId) {\n",
              "  const steps = uploadFilesStep(inputId, outputId);\n",
              "  const outputElement = document.getElementById(outputId);\n",
              "  // Cache steps on the outputElement to make it available for the next call\n",
              "  // to uploadFilesContinue from Python.\n",
              "  outputElement.steps = steps;\n",
              "\n",
              "  return _uploadFilesContinue(outputId);\n",
              "}\n",
              "\n",
              "// This is roughly an async generator (not supported in the browser yet),\n",
              "// where there are multiple asynchronous steps and the Python side is going\n",
              "// to poll for completion of each step.\n",
              "// This uses a Promise to block the python side on completion of each step,\n",
              "// then passes the result of the previous step as the input to the next step.\n",
              "function _uploadFilesContinue(outputId) {\n",
              "  const outputElement = document.getElementById(outputId);\n",
              "  const steps = outputElement.steps;\n",
              "\n",
              "  const next = steps.next(outputElement.lastPromiseValue);\n",
              "  return Promise.resolve(next.value.promise).then((value) => {\n",
              "    // Cache the last promise value to make it available to the next\n",
              "    // step of the generator.\n",
              "    outputElement.lastPromiseValue = value;\n",
              "    return next.value.response;\n",
              "  });\n",
              "}\n",
              "\n",
              "/**\n",
              " * Generator function which is called between each async step of the upload\n",
              " * process.\n",
              " * @param {string} inputId Element ID of the input file picker element.\n",
              " * @param {string} outputId Element ID of the output display.\n",
              " * @return {!Iterable<!Object>} Iterable of next steps.\n",
              " */\n",
              "function* uploadFilesStep(inputId, outputId) {\n",
              "  const inputElement = document.getElementById(inputId);\n",
              "  inputElement.disabled = false;\n",
              "\n",
              "  const outputElement = document.getElementById(outputId);\n",
              "  outputElement.innerHTML = '';\n",
              "\n",
              "  const pickedPromise = new Promise((resolve) => {\n",
              "    inputElement.addEventListener('change', (e) => {\n",
              "      resolve(e.target.files);\n",
              "    });\n",
              "  });\n",
              "\n",
              "  const cancel = document.createElement('button');\n",
              "  inputElement.parentElement.appendChild(cancel);\n",
              "  cancel.textContent = 'Cancel upload';\n",
              "  const cancelPromise = new Promise((resolve) => {\n",
              "    cancel.onclick = () => {\n",
              "      resolve(null);\n",
              "    };\n",
              "  });\n",
              "\n",
              "  // Wait for the user to pick the files.\n",
              "  const files = yield {\n",
              "    promise: Promise.race([pickedPromise, cancelPromise]),\n",
              "    response: {\n",
              "      action: 'starting',\n",
              "    }\n",
              "  };\n",
              "\n",
              "  cancel.remove();\n",
              "\n",
              "  // Disable the input element since further picks are not allowed.\n",
              "  inputElement.disabled = true;\n",
              "\n",
              "  if (!files) {\n",
              "    return {\n",
              "      response: {\n",
              "        action: 'complete',\n",
              "      }\n",
              "    };\n",
              "  }\n",
              "\n",
              "  for (const file of files) {\n",
              "    const li = document.createElement('li');\n",
              "    li.append(span(file.name, {fontWeight: 'bold'}));\n",
              "    li.append(span(\n",
              "        `(${file.type || 'n/a'}) - ${file.size} bytes, ` +\n",
              "        `last modified: ${\n",
              "            file.lastModifiedDate ? file.lastModifiedDate.toLocaleDateString() :\n",
              "                                    'n/a'} - `));\n",
              "    const percent = span('0% done');\n",
              "    li.appendChild(percent);\n",
              "\n",
              "    outputElement.appendChild(li);\n",
              "\n",
              "    const fileDataPromise = new Promise((resolve) => {\n",
              "      const reader = new FileReader();\n",
              "      reader.onload = (e) => {\n",
              "        resolve(e.target.result);\n",
              "      };\n",
              "      reader.readAsArrayBuffer(file);\n",
              "    });\n",
              "    // Wait for the data to be ready.\n",
              "    let fileData = yield {\n",
              "      promise: fileDataPromise,\n",
              "      response: {\n",
              "        action: 'continue',\n",
              "      }\n",
              "    };\n",
              "\n",
              "    // Use a chunked sending to avoid message size limits. See b/62115660.\n",
              "    let position = 0;\n",
              "    do {\n",
              "      const length = Math.min(fileData.byteLength - position, MAX_PAYLOAD_SIZE);\n",
              "      const chunk = new Uint8Array(fileData, position, length);\n",
              "      position += length;\n",
              "\n",
              "      const base64 = btoa(String.fromCharCode.apply(null, chunk));\n",
              "      yield {\n",
              "        response: {\n",
              "          action: 'append',\n",
              "          file: file.name,\n",
              "          data: base64,\n",
              "        },\n",
              "      };\n",
              "\n",
              "      let percentDone = fileData.byteLength === 0 ?\n",
              "          100 :\n",
              "          Math.round((position / fileData.byteLength) * 100);\n",
              "      percent.textContent = `${percentDone}% done`;\n",
              "\n",
              "    } while (position < fileData.byteLength);\n",
              "  }\n",
              "\n",
              "  // All done.\n",
              "  yield {\n",
              "    response: {\n",
              "      action: 'complete',\n",
              "    }\n",
              "  };\n",
              "}\n",
              "\n",
              "scope.google = scope.google || {};\n",
              "scope.google.colab = scope.google.colab || {};\n",
              "scope.google.colab._files = {\n",
              "  _uploadFiles,\n",
              "  _uploadFilesContinue,\n",
              "};\n",
              "})(self);\n",
              "</script> "
            ]
          },
          "metadata": {}
        },
        {
          "output_type": "stream",
          "name": "stdout",
          "text": [
            "Saving kaggle.json to kaggle.json\n"
          ]
        }
      ]
    },
    {
      "cell_type": "code",
      "source": [
        "#download dataset dari kaggle\n",
        "!kaggle datasets download -d computingvictor/transactions-fraud-datasets"
      ],
      "metadata": {
        "colab": {
          "base_uri": "https://localhost:8080/"
        },
        "id": "ryxXIUVjyCBP",
        "outputId": "f8550b01-2eb9-402f-fb16-bf32fb964c5f"
      },
      "execution_count": null,
      "outputs": [
        {
          "output_type": "stream",
          "name": "stdout",
          "text": [
            "Dataset URL: https://www.kaggle.com/datasets/computingvictor/transactions-fraud-datasets\n",
            "License(s): apache-2.0\n",
            "Downloading transactions-fraud-datasets.zip to /content\n",
            " 80% 278M/348M [00:00<00:00, 640MB/s] \n",
            "100% 348M/348M [00:00<00:00, 635MB/s]\n"
          ]
        }
      ]
    },
    {
      "cell_type": "code",
      "source": [
        "!unzip transactions-fraud-datasets.zip"
      ],
      "metadata": {
        "colab": {
          "base_uri": "https://localhost:8080/"
        },
        "id": "anIJxamkzBYp",
        "outputId": "a4ad6629-0e5d-4826-9670-46885721ce38"
      },
      "execution_count": null,
      "outputs": [
        {
          "output_type": "stream",
          "name": "stdout",
          "text": [
            "Archive:  transactions-fraud-datasets.zip\n",
            "  inflating: cards_data.csv          \n",
            "  inflating: mcc_codes.json          \n",
            "  inflating: train_fraud_labels.json  \n",
            "  inflating: transactions_data.csv   \n",
            "  inflating: users_data.csv          \n"
          ]
        }
      ]
    },
    {
      "cell_type": "markdown",
      "source": [
        "Users Data Analys"
      ],
      "metadata": {
        "id": "ZdS8_u1J0SOx"
      }
    },
    {
      "cell_type": "code",
      "source": [
        "#fungsi map reduce adalah untuk mengelompokan data"
      ],
      "metadata": {
        "id": "Ag-7rWUG7lnW"
      },
      "execution_count": null,
      "outputs": []
    },
    {
      "cell_type": "code",
      "source": [
        "from collections import defaultdict\n",
        "import pandas as pd\n",
        "\n",
        "#muat data\n",
        "users_df = pd.read_csv('users_data.csv')\n",
        "\n",
        "#=== MAP ===\n",
        "mapped_counts = [] #utk menghitung jumlah pengguna per gender\n",
        "mapped_scores = [] #utk menghitung skor kredit per gender\n",
        "\n",
        "for index, row in users_df.iterrows():\n",
        "  gender = row['gender']\n",
        "  credit_score = row['credit_score']\n",
        "\n",
        "  mapped_counts.append((gender, 1))\n",
        "  mapped_scores.append((gender, credit_score))\n",
        "\n",
        "#=== SHUFFLE & GROUP ===\n",
        "grouped_counts = defaultdict(list)\n",
        "grouped_scores = defaultdict(list)\n",
        "\n",
        "for gender, count in mapped_counts:\n",
        "  grouped_counts[gender].append(count)\n",
        "\n",
        "for gender, score in mapped_scores:\n",
        "  grouped_scores[gender].append(score)\n",
        "\n",
        "#=== REDUCE ===\n",
        "reduced_counts = {gender: sum(counts) for gender, counts in grouped_counts.items()}\n",
        "reduced_avg_scores = {gender: sum(scores)/len(scores) for gender, scores in grouped_scores.items()}\n",
        "\n",
        "#=== OUTPUT ===\n",
        "print(\"jumlah pengguna per gender: \")\n",
        "for gender, count in reduced_counts.items():\n",
        "  print(f\"{gender}: {count} orang\")\n",
        "\n",
        "print(\"\\nrata rata skor kredit per gender: \")\n",
        "for gender, avg in reduced_avg_scores.items():\n",
        "  print(f\"{gender}: {round(avg, 2)}\")"
      ],
      "metadata": {
        "colab": {
          "base_uri": "https://localhost:8080/"
        },
        "id": "_Y6S7v-Cz5wp",
        "outputId": "0c6987c7-43dc-41b4-e77c-feee222a651e"
      },
      "execution_count": null,
      "outputs": [
        {
          "output_type": "stream",
          "name": "stdout",
          "text": [
            "jumlah pengguna per gender: \n",
            "Female: 1016 orang\n",
            "Male: 984 orang\n",
            "\n",
            "rata rata skor kredit per gender: \n",
            "Female: 709.17\n",
            "Male: 710.32\n"
          ]
        }
      ]
    },
    {
      "cell_type": "markdown",
      "source": [
        "Cards Data Analys"
      ],
      "metadata": {
        "id": "bdnj9isl7tn_"
      }
    },
    {
      "cell_type": "code",
      "source": [
        "from collections import defaultdict\n",
        "import pandas as pd\n",
        "\n",
        "# Load data kartu\n",
        "cards_df = pd.read_csv(\"cards_data.csv\")\n",
        "\n",
        "# Bersihkan kolom credit_limit ($ ke float)\n",
        "cards_df['credit_limit'] = cards_df['credit_limit'].replace('[\\$,]', '', regex=True).astype(float)\n",
        "\n",
        "# 1. Jumlah kartu per jenis\n",
        "mapped_type = [(row['card_type'], 1) for _, row in cards_df.iterrows()]\n",
        "grouped_type = defaultdict(list)\n",
        "for k, v in mapped_type:\n",
        "    grouped_type[k].append(v)\n",
        "reduced_type = {k: sum(v) for k, v in grouped_type.items()}\n",
        "\n",
        "\n",
        "# 2. Rata-rata limit kredit per card_type\n",
        "mapped_limit = [(row['card_type'], row['credit_limit']) for _, row in cards_df.iterrows()]\n",
        "grouped_limit = defaultdict(list)\n",
        "for k, v in mapped_limit:\n",
        "    grouped_limit[k].append(v)\n",
        "reduced_avg_limit = {k: sum(v)/len(v) for k, v in grouped_limit.items()}\n",
        "\n",
        "\n",
        "# 3. Jumlah kartu bocor (dark web exposure)\n",
        "mapped_darkweb = [(row['card_on_dark_web'], 1) for _, row in cards_df.iterrows()]\n",
        "grouped_darkweb = defaultdict(list)\n",
        "for k, v in mapped_darkweb:\n",
        "    grouped_darkweb[k].append(v)\n",
        "reduced_darkweb = {k: sum(v) for k, v in grouped_darkweb.items()}\n",
        "\n",
        "# Tampilkan hasil analisis\n",
        "print(\"Jumlah kartu per jenis:\")\n",
        "for k, v in reduced_type.items():\n",
        "    print(f\"- {k}: {v} kartu\")\n",
        "\n",
        "print(\"\\n Rata-rata credit limit per jenis:\")\n",
        "for k, v in reduced_avg_limit.items():\n",
        "    print(f\"- {k}: ${round(v, 2)}\")\n",
        "\n",
        "print(\"\\n Status kebocoran (dark web):\")\n",
        "for k, v in reduced_darkweb.items():\n",
        "    print(f\"- {k}: {v} kartu\")"
      ],
      "metadata": {
        "colab": {
          "base_uri": "https://localhost:8080/"
        },
        "id": "3NqtzioW4-u_",
        "outputId": "5b69ef0d-dd2a-4cb0-eb71-036cbc1236fa"
      },
      "execution_count": null,
      "outputs": [
        {
          "output_type": "stream",
          "name": "stdout",
          "text": [
            "Jumlah kartu per jenis:\n",
            "- Debit: 3511 kartu\n",
            "- Credit: 2057 kartu\n",
            "- Debit (Prepaid): 578 kartu\n",
            "\n",
            " Rata-rata credit limit per jenis:\n",
            "- Debit: $18557.89\n",
            "- Credit: $11174.38\n",
            "- Debit (Prepaid): $64.45\n",
            "\n",
            " Status kebocoran (dark web):\n",
            "- No: 6146 kartu\n"
          ]
        }
      ]
    },
    {
      "cell_type": "markdown",
      "source": [
        "Transaction Data Analys"
      ],
      "metadata": {
        "id": "jU9CU_pj78rc"
      }
    },
    {
      "cell_type": "code",
      "source": [],
      "metadata": {
        "id": "U-vx-MzV8Jpd"
      },
      "execution_count": null,
      "outputs": []
    }
  ]
}