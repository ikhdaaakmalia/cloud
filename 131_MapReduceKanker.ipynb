{
  "nbformat": 4,
  "nbformat_minor": 0,
  "metadata": {
    "colab": {
      "provenance": [],
      "authorship_tag": "ABX9TyM7d0fyySf/uYyC8gcYeOqO",
      "include_colab_link": true
    },
    "kernelspec": {
      "name": "python3",
      "display_name": "Python 3"
    },
    "language_info": {
      "name": "python"
    }
  },
  "cells": [
    {
      "cell_type": "markdown",
      "metadata": {
        "id": "view-in-github",
        "colab_type": "text"
      },
      "source": [
        "<a href=\"https://colab.research.google.com/github/ikhdaaakmalia/cloud/blob/main/131_MapReduceKanker.ipynb\" target=\"_parent\"><img src=\"https://colab.research.google.com/assets/colab-badge.svg\" alt=\"Open In Colab\"/></a>"
      ]
    },
    {
      "cell_type": "code",
      "execution_count": null,
      "metadata": {
        "colab": {
          "base_uri": "https://localhost:8080/"
        },
        "id": "80Q4-jjAzyuN",
        "outputId": "0195ffb5-3080-4139-b39f-a357ead5dc27"
      },
      "outputs": [
        {
          "output_type": "stream",
          "name": "stdout",
          "text": [
            "Requirement already satisfied: kaggle in /usr/local/lib/python3.11/dist-packages (1.7.4.5)\n",
            "Requirement already satisfied: bleach in /usr/local/lib/python3.11/dist-packages (from kaggle) (6.2.0)\n",
            "Requirement already satisfied: certifi>=14.05.14 in /usr/local/lib/python3.11/dist-packages (from kaggle) (2025.6.15)\n",
            "Requirement already satisfied: charset-normalizer in /usr/local/lib/python3.11/dist-packages (from kaggle) (3.4.2)\n",
            "Requirement already satisfied: idna in /usr/local/lib/python3.11/dist-packages (from kaggle) (3.10)\n",
            "Requirement already satisfied: protobuf in /usr/local/lib/python3.11/dist-packages (from kaggle) (5.29.5)\n",
            "Requirement already satisfied: python-dateutil>=2.5.3 in /usr/local/lib/python3.11/dist-packages (from kaggle) (2.9.0.post0)\n",
            "Requirement already satisfied: python-slugify in /usr/local/lib/python3.11/dist-packages (from kaggle) (8.0.4)\n",
            "Requirement already satisfied: requests in /usr/local/lib/python3.11/dist-packages (from kaggle) (2.32.3)\n",
            "Requirement already satisfied: setuptools>=21.0.0 in /usr/local/lib/python3.11/dist-packages (from kaggle) (75.2.0)\n",
            "Requirement already satisfied: six>=1.10 in /usr/local/lib/python3.11/dist-packages (from kaggle) (1.17.0)\n",
            "Requirement already satisfied: text-unidecode in /usr/local/lib/python3.11/dist-packages (from kaggle) (1.3)\n",
            "Requirement already satisfied: tqdm in /usr/local/lib/python3.11/dist-packages (from kaggle) (4.67.1)\n",
            "Requirement already satisfied: urllib3>=1.15.1 in /usr/local/lib/python3.11/dist-packages (from kaggle) (2.4.0)\n",
            "Requirement already satisfied: webencodings in /usr/local/lib/python3.11/dist-packages (from kaggle) (0.5.1)\n",
            "Requirement already satisfied: pandas in /usr/local/lib/python3.11/dist-packages (2.2.2)\n",
            "Requirement already satisfied: numpy>=1.23.2 in /usr/local/lib/python3.11/dist-packages (from pandas) (2.0.2)\n",
            "Requirement already satisfied: python-dateutil>=2.8.2 in /usr/local/lib/python3.11/dist-packages (from pandas) (2.9.0.post0)\n",
            "Requirement already satisfied: pytz>=2020.1 in /usr/local/lib/python3.11/dist-packages (from pandas) (2025.2)\n",
            "Requirement already satisfied: tzdata>=2022.7 in /usr/local/lib/python3.11/dist-packages (from pandas) (2025.2)\n",
            "Requirement already satisfied: six>=1.5 in /usr/local/lib/python3.11/dist-packages (from python-dateutil>=2.8.2->pandas) (1.17.0)\n"
          ]
        }
      ],
      "source": [
        "#install library di kaggle\n",
        "!pip install kaggle\n",
        "!pip install pandas"
      ]
    },
    {
      "cell_type": "code",
      "source": [
        "#upload file kaggle.json\n",
        "from google.colab import files\n",
        "files.upload()\n",
        "\n",
        "#simpan API key dan atur izin akses\n",
        "!mkdir ~/.kaggle\n",
        "!cp kaggle.json ~/.kaggle/\n",
        "!chmod 600 ~/.kaggle/kaggle.json"
      ],
      "metadata": {
        "colab": {
          "base_uri": "https://localhost:8080/",
          "height": 92
        },
        "id": "uPibVBfpz-4Z",
        "outputId": "8dbcf093-f25d-4bca-c63a-43bd477c0eb9"
      },
      "execution_count": null,
      "outputs": [
        {
          "output_type": "display_data",
          "data": {
            "text/plain": [
              "<IPython.core.display.HTML object>"
            ],
            "text/html": [
              "\n",
              "     <input type=\"file\" id=\"files-30713c86-11ce-4d12-990f-83e39f8b9ba1\" name=\"files[]\" multiple disabled\n",
              "        style=\"border:none\" />\n",
              "     <output id=\"result-30713c86-11ce-4d12-990f-83e39f8b9ba1\">\n",
              "      Upload widget is only available when the cell has been executed in the\n",
              "      current browser session. Please rerun this cell to enable.\n",
              "      </output>\n",
              "      <script>// Copyright 2017 Google LLC\n",
              "//\n",
              "// Licensed under the Apache License, Version 2.0 (the \"License\");\n",
              "// you may not use this file except in compliance with the License.\n",
              "// You may obtain a copy of the License at\n",
              "//\n",
              "//      http://www.apache.org/licenses/LICENSE-2.0\n",
              "//\n",
              "// Unless required by applicable law or agreed to in writing, software\n",
              "// distributed under the License is distributed on an \"AS IS\" BASIS,\n",
              "// WITHOUT WARRANTIES OR CONDITIONS OF ANY KIND, either express or implied.\n",
              "// See the License for the specific language governing permissions and\n",
              "// limitations under the License.\n",
              "\n",
              "/**\n",
              " * @fileoverview Helpers for google.colab Python module.\n",
              " */\n",
              "(function(scope) {\n",
              "function span(text, styleAttributes = {}) {\n",
              "  const element = document.createElement('span');\n",
              "  element.textContent = text;\n",
              "  for (const key of Object.keys(styleAttributes)) {\n",
              "    element.style[key] = styleAttributes[key];\n",
              "  }\n",
              "  return element;\n",
              "}\n",
              "\n",
              "// Max number of bytes which will be uploaded at a time.\n",
              "const MAX_PAYLOAD_SIZE = 100 * 1024;\n",
              "\n",
              "function _uploadFiles(inputId, outputId) {\n",
              "  const steps = uploadFilesStep(inputId, outputId);\n",
              "  const outputElement = document.getElementById(outputId);\n",
              "  // Cache steps on the outputElement to make it available for the next call\n",
              "  // to uploadFilesContinue from Python.\n",
              "  outputElement.steps = steps;\n",
              "\n",
              "  return _uploadFilesContinue(outputId);\n",
              "}\n",
              "\n",
              "// This is roughly an async generator (not supported in the browser yet),\n",
              "// where there are multiple asynchronous steps and the Python side is going\n",
              "// to poll for completion of each step.\n",
              "// This uses a Promise to block the python side on completion of each step,\n",
              "// then passes the result of the previous step as the input to the next step.\n",
              "function _uploadFilesContinue(outputId) {\n",
              "  const outputElement = document.getElementById(outputId);\n",
              "  const steps = outputElement.steps;\n",
              "\n",
              "  const next = steps.next(outputElement.lastPromiseValue);\n",
              "  return Promise.resolve(next.value.promise).then((value) => {\n",
              "    // Cache the last promise value to make it available to the next\n",
              "    // step of the generator.\n",
              "    outputElement.lastPromiseValue = value;\n",
              "    return next.value.response;\n",
              "  });\n",
              "}\n",
              "\n",
              "/**\n",
              " * Generator function which is called between each async step of the upload\n",
              " * process.\n",
              " * @param {string} inputId Element ID of the input file picker element.\n",
              " * @param {string} outputId Element ID of the output display.\n",
              " * @return {!Iterable<!Object>} Iterable of next steps.\n",
              " */\n",
              "function* uploadFilesStep(inputId, outputId) {\n",
              "  const inputElement = document.getElementById(inputId);\n",
              "  inputElement.disabled = false;\n",
              "\n",
              "  const outputElement = document.getElementById(outputId);\n",
              "  outputElement.innerHTML = '';\n",
              "\n",
              "  const pickedPromise = new Promise((resolve) => {\n",
              "    inputElement.addEventListener('change', (e) => {\n",
              "      resolve(e.target.files);\n",
              "    });\n",
              "  });\n",
              "\n",
              "  const cancel = document.createElement('button');\n",
              "  inputElement.parentElement.appendChild(cancel);\n",
              "  cancel.textContent = 'Cancel upload';\n",
              "  const cancelPromise = new Promise((resolve) => {\n",
              "    cancel.onclick = () => {\n",
              "      resolve(null);\n",
              "    };\n",
              "  });\n",
              "\n",
              "  // Wait for the user to pick the files.\n",
              "  const files = yield {\n",
              "    promise: Promise.race([pickedPromise, cancelPromise]),\n",
              "    response: {\n",
              "      action: 'starting',\n",
              "    }\n",
              "  };\n",
              "\n",
              "  cancel.remove();\n",
              "\n",
              "  // Disable the input element since further picks are not allowed.\n",
              "  inputElement.disabled = true;\n",
              "\n",
              "  if (!files) {\n",
              "    return {\n",
              "      response: {\n",
              "        action: 'complete',\n",
              "      }\n",
              "    };\n",
              "  }\n",
              "\n",
              "  for (const file of files) {\n",
              "    const li = document.createElement('li');\n",
              "    li.append(span(file.name, {fontWeight: 'bold'}));\n",
              "    li.append(span(\n",
              "        `(${file.type || 'n/a'}) - ${file.size} bytes, ` +\n",
              "        `last modified: ${\n",
              "            file.lastModifiedDate ? file.lastModifiedDate.toLocaleDateString() :\n",
              "                                    'n/a'} - `));\n",
              "    const percent = span('0% done');\n",
              "    li.appendChild(percent);\n",
              "\n",
              "    outputElement.appendChild(li);\n",
              "\n",
              "    const fileDataPromise = new Promise((resolve) => {\n",
              "      const reader = new FileReader();\n",
              "      reader.onload = (e) => {\n",
              "        resolve(e.target.result);\n",
              "      };\n",
              "      reader.readAsArrayBuffer(file);\n",
              "    });\n",
              "    // Wait for the data to be ready.\n",
              "    let fileData = yield {\n",
              "      promise: fileDataPromise,\n",
              "      response: {\n",
              "        action: 'continue',\n",
              "      }\n",
              "    };\n",
              "\n",
              "    // Use a chunked sending to avoid message size limits. See b/62115660.\n",
              "    let position = 0;\n",
              "    do {\n",
              "      const length = Math.min(fileData.byteLength - position, MAX_PAYLOAD_SIZE);\n",
              "      const chunk = new Uint8Array(fileData, position, length);\n",
              "      position += length;\n",
              "\n",
              "      const base64 = btoa(String.fromCharCode.apply(null, chunk));\n",
              "      yield {\n",
              "        response: {\n",
              "          action: 'append',\n",
              "          file: file.name,\n",
              "          data: base64,\n",
              "        },\n",
              "      };\n",
              "\n",
              "      let percentDone = fileData.byteLength === 0 ?\n",
              "          100 :\n",
              "          Math.round((position / fileData.byteLength) * 100);\n",
              "      percent.textContent = `${percentDone}% done`;\n",
              "\n",
              "    } while (position < fileData.byteLength);\n",
              "  }\n",
              "\n",
              "  // All done.\n",
              "  yield {\n",
              "    response: {\n",
              "      action: 'complete',\n",
              "    }\n",
              "  };\n",
              "}\n",
              "\n",
              "scope.google = scope.google || {};\n",
              "scope.google.colab = scope.google.colab || {};\n",
              "scope.google.colab._files = {\n",
              "  _uploadFiles,\n",
              "  _uploadFilesContinue,\n",
              "};\n",
              "})(self);\n",
              "</script> "
            ]
          },
          "metadata": {}
        },
        {
          "output_type": "stream",
          "name": "stdout",
          "text": [
            "Saving kaggle.json to kaggle.json\n",
            "mkdir: cannot create directory ‘/root/.kaggle’: File exists\n"
          ]
        }
      ]
    },
    {
      "cell_type": "code",
      "source": [
        "!cp kaggle.json ~/.kaggle/\n",
        "!chmod 600 ~/.kaggle/kaggle.json"
      ],
      "metadata": {
        "id": "wKFSfqkZ3gER"
      },
      "execution_count": null,
      "outputs": []
    },
    {
      "cell_type": "code",
      "source": [
        "#download dataset dari kaggle\n",
        "!kaggle datasets download -d rasaputra/klasifikasi-jenis-kanker"
      ],
      "metadata": {
        "colab": {
          "base_uri": "https://localhost:8080/"
        },
        "id": "oJamvpgq0CB6",
        "outputId": "4fc9bb76-b101-4515-d21d-54dc998fa8bc"
      },
      "execution_count": null,
      "outputs": [
        {
          "output_type": "stream",
          "name": "stdout",
          "text": [
            "Dataset URL: https://www.kaggle.com/datasets/rasaputra/klasifikasi-jenis-kanker\n",
            "License(s): unknown\n",
            "Downloading klasifikasi-jenis-kanker.zip to /content\n",
            "  0% 0.00/1.80k [00:00<?, ?B/s]\n",
            "100% 1.80k/1.80k [00:00<00:00, 3.39MB/s]\n"
          ]
        }
      ]
    },
    {
      "cell_type": "code",
      "source": [
        "!unzip klasifikasi-jenis-kanker.zip"
      ],
      "metadata": {
        "colab": {
          "base_uri": "https://localhost:8080/"
        },
        "id": "93tQWur-5V8V",
        "outputId": "2df0171e-4872-48c7-ae95-77a63e26f3d6"
      },
      "execution_count": null,
      "outputs": [
        {
          "output_type": "stream",
          "name": "stdout",
          "text": [
            "Archive:  klasifikasi-jenis-kanker.zip\n",
            "  inflating: breast-cancer.data      \n"
          ]
        }
      ]
    },
    {
      "cell_type": "markdown",
      "source": [
        "# rerata umur penderita kanker terbanyak **teks tebal**"
      ],
      "metadata": {
        "id": "FI4Qf4rs7oAY"
      }
    },
    {
      "cell_type": "code",
      "source": [
        "from collections import defaultdict\n",
        "import pandas as pd\n",
        "\n",
        "df = pd.read_csv('cancer patient data sets.csv')\n",
        "\n",
        "# === MAP ===\n",
        "mapped_ages = []\n",
        "\n",
        "for index, row in df.iterrows():\n",
        "    if row['Level'].strip().lower() != 'none':  # asumsikan 'None' berarti tidak kanker\n",
        "        age = row['Age']\n",
        "        mapped_ages.append((age, 1))\n",
        "\n",
        "# === GROUP ===\n",
        "grouped_ages = defaultdict(list)\n",
        "for age, count in mapped_ages:\n",
        "    grouped_ages[age].append(count)\n",
        "\n",
        "# === REDUCE ===\n",
        "reduced_age_counts = {age: sum(counts) for age, counts in grouped_ages.items()}\n",
        "\n",
        "# === OUTPUT ===\n",
        "if reduced_age_counts:\n",
        "    most_common_age = max(reduced_age_counts, key=reduced_age_counts.get)\n",
        "    print(\"📌 Umur terbanyak penderita kanker:\")\n",
        "    print(f\"Umur {most_common_age} tahun: {reduced_age_counts[most_common_age]} orang\")\n",
        "else:\n",
        "    print(\"Tidak ada data penderita kanker berdasarkan umur.\")"
      ],
      "metadata": {
        "colab": {
          "base_uri": "https://localhost:8080/"
        },
        "id": "7uXKjLxD7WB1",
        "outputId": "f28cf4ad-15e9-4167-fffa-3d8c046313eb"
      },
      "execution_count": null,
      "outputs": [
        {
          "output_type": "stream",
          "name": "stdout",
          "text": [
            "📌 Umur terbanyak penderita kanker:\n",
            "Umur 35 tahun: 77 orang\n"
          ]
        }
      ]
    },
    {
      "cell_type": "markdown",
      "source": [
        "# **penderita kanker karena rokok**"
      ],
      "metadata": {
        "id": "teYL4Y2q7sIi"
      }
    },
    {
      "cell_type": "code",
      "source": [
        "from collections import defaultdict\n",
        "import pandas as pd\n",
        "\n",
        "df = pd.read_csv('cancer patient data sets.csv')\n",
        "\n",
        "# === MAP ===\n",
        "mapped_smoking_cancer = []\n",
        "\n",
        "for index, row in df.iterrows():\n",
        "    if row['Level'].strip().lower() != 'none' and row['Smoking'] == 1:\n",
        "        mapped_smoking_cancer.append(('smoking_cancer', 1))\n",
        "\n",
        "# === GROUP ===\n",
        "grouped = defaultdict(list)\n",
        "for key, count in mapped_smoking_cancer:\n",
        "    grouped[key].append(count)\n",
        "\n",
        "# === REDUCE ===\n",
        "reduced = {key: sum(counts) for key, counts in grouped.items()}\n",
        "\n",
        "# === OUTPUT ===\n",
        "print(\"🚬 Jumlah penderita kanker yang merokok:\")\n",
        "print(f\"{reduced.get('smoking_cancer', 0)} orang\")\n"
      ],
      "metadata": {
        "colab": {
          "base_uri": "https://localhost:8080/"
        },
        "id": "JS-L5KVA7aPv",
        "outputId": "228520b5-dffa-4dfe-8a3e-672cca52ec2d"
      },
      "execution_count": null,
      "outputs": [
        {
          "output_type": "stream",
          "name": "stdout",
          "text": [
            "🚬 Jumlah penderita kanker yang merokok:\n",
            "181 orang\n"
          ]
        }
      ]
    },
    {
      "cell_type": "markdown",
      "source": [
        "# **rerata gender pengidap kangker**"
      ],
      "metadata": {
        "id": "ZdMqcno08l5p"
      }
    },
    {
      "cell_type": "code",
      "source": [
        "import pandas as pd\n",
        "import warnings\n",
        "from collections import defaultdict\n",
        "\n",
        "warnings.filterwarnings(\"ignore\")  # Hindari warning overwrite\n",
        "\n",
        "# === LOAD DATA ===\n",
        "df = pd.read_csv('cancer patient data sets.csv')\n",
        "\n",
        "# === FILTER: Hanya penderita kanker (Level ≠ 'None')\n",
        "kanker_df = df[df['Level'].str.lower().str.strip() != 'none']\n",
        "\n",
        "# === MAPPING GENDER: angka ke teks\n",
        "gender_map = {1: 'Male', 2: 'Female'}\n",
        "kanker_df['Gender'] = kanker_df['Gender'].map(gender_map)\n",
        "\n",
        "# === HITUNG JUMLAH TIAP GENDER ===\n",
        "gender_counts = kanker_df['Gender'].value_counts()\n",
        "\n",
        "# === TOTAL PENDERITA ===\n",
        "total_kanker = gender_counts.sum()\n",
        "\n",
        "# === HITUNG PERSENTASE PER GENDER ===\n",
        "gender_ratio = {\n",
        "    gender: round((count / total_kanker) * 100, 2)\n",
        "    for gender, count in gender_counts.items()\n",
        "}\n",
        "\n",
        "# === OUTPUT ===\n",
        "print(\"👤 Persentase penderita kanker berdasarkan gender:\")\n",
        "for gender, ratio in gender_ratio.items():\n",
        "    print(f\"{gender}: {ratio}%\")\n"
      ],
      "metadata": {
        "colab": {
          "base_uri": "https://localhost:8080/"
        },
        "id": "71ArIFCS9CuT",
        "outputId": "42ed01d1-9acb-4ece-83b1-850079a0b121"
      },
      "execution_count": null,
      "outputs": [
        {
          "output_type": "stream",
          "name": "stdout",
          "text": [
            "👤 Persentase penderita kanker berdasarkan gender:\n",
            "Male: 59.8%\n",
            "Female: 40.2%\n"
          ]
        }
      ]
    },
    {
      "cell_type": "markdown",
      "source": [
        "# **pengidap kangker akibat alkohol**"
      ],
      "metadata": {
        "id": "MEwO4Mbb9YJt"
      }
    },
    {
      "cell_type": "code",
      "source": [
        "import pandas as pd\n",
        "\n",
        "# Load data\n",
        "df = pd.read_csv('cancer patient data sets.csv')\n",
        "\n",
        "# Filter hanya penderita kanker\n",
        "kanker_df = df[df['Level'].str.lower().str.strip() != 'none']\n",
        "\n",
        "# Filter yang mengonsumsi alkohol (> 0)\n",
        "alkohol_kanker = kanker_df[kanker_df['Alcohol use'] > 0]\n",
        "\n",
        "# Hitung\n",
        "jumlah_alkohol_kanker = len(alkohol_kanker)\n",
        "total_kanker = len(kanker_df)\n",
        "\n",
        "# Output\n",
        "print(\"🍷 Jumlah penderita kanker yang mengonsumsi alkohol:\")\n",
        "print(f\"{jumlah_alkohol_kanker} orang dari total {total_kanker} penderita kanker\")\n"
      ],
      "metadata": {
        "colab": {
          "base_uri": "https://localhost:8080/"
        },
        "id": "5gYqzf529ceh",
        "outputId": "38b357f6-6ce1-4b64-f9ec-1a87889ef54b"
      },
      "execution_count": null,
      "outputs": [
        {
          "output_type": "stream",
          "name": "stdout",
          "text": [
            "🍷 Jumlah penderita kanker yang mengonsumsi alkohol:\n",
            "1000 orang dari total 1000 penderita kanker\n"
          ]
        }
      ]
    }
  ]
}