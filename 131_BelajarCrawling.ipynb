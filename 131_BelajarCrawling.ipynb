{
  "nbformat": 4,
  "nbformat_minor": 0,
  "metadata": {
    "colab": {
      "provenance": [],
      "authorship_tag": "ABX9TyOlVnQP6ImOZprDWPGeJ/zb",
      "include_colab_link": true
    },
    "kernelspec": {
      "name": "python3",
      "display_name": "Python 3"
    },
    "language_info": {
      "name": "python"
    }
  },
  "cells": [
    {
      "cell_type": "markdown",
      "metadata": {
        "id": "view-in-github",
        "colab_type": "text"
      },
      "source": [
        "<a href=\"https://colab.research.google.com/github/ikhdaaakmalia/cloud/blob/main/131_BelajarCrawling.ipynb\" target=\"_parent\"><img src=\"https://colab.research.google.com/assets/colab-badge.svg\" alt=\"Open In Colab\"/></a>"
      ]
    },
    {
      "cell_type": "code",
      "execution_count": null,
      "metadata": {
        "colab": {
          "base_uri": "https://localhost:8080/"
        },
        "id": "ZRBu94cKwSKq",
        "outputId": "0b89592b-d599-48d5-8613-50b09183ba51"
      },
      "outputs": [
        {
          "output_type": "stream",
          "name": "stdout",
          "text": [
            "Requirement already satisfied: requests in /usr/local/lib/python3.11/dist-packages (2.32.3)\n",
            "Requirement already satisfied: beautifulsoup4 in /usr/local/lib/python3.11/dist-packages (4.13.4)\n",
            "Requirement already satisfied: charset-normalizer<4,>=2 in /usr/local/lib/python3.11/dist-packages (from requests) (3.4.1)\n",
            "Requirement already satisfied: idna<4,>=2.5 in /usr/local/lib/python3.11/dist-packages (from requests) (3.10)\n",
            "Requirement already satisfied: urllib3<3,>=1.21.1 in /usr/local/lib/python3.11/dist-packages (from requests) (2.3.0)\n",
            "Requirement already satisfied: certifi>=2017.4.17 in /usr/local/lib/python3.11/dist-packages (from requests) (2025.1.31)\n",
            "Requirement already satisfied: soupsieve>1.2 in /usr/local/lib/python3.11/dist-packages (from beautifulsoup4) (2.6)\n",
            "Requirement already satisfied: typing-extensions>=4.0.0 in /usr/local/lib/python3.11/dist-packages (from beautifulsoup4) (4.13.2)\n"
          ]
        }
      ],
      "source": [
        "pip install requests beautifulsoup4"
      ]
    },
    {
      "cell_type": "code",
      "source": [
        "import requests\n",
        "from bs4 import BeautifulSoup\n",
        "\n",
        "url = 'https://www.detik.com/tag/kesehatan-mental'\n",
        "response = requests.get(url)\n",
        "soup = BeautifulSoup(response.text, 'html.parser')"
      ],
      "metadata": {
        "id": "ToykcqMywk0l"
      },
      "execution_count": null,
      "outputs": []
    },
    {
      "cell_type": "code",
      "source": [
        "articles = soup.find_all('h2', class_='title')\n",
        "for article in articles:\n",
        "    print(article.text)"
      ],
      "metadata": {
        "colab": {
          "base_uri": "https://localhost:8080/"
        },
        "id": "C2SbodQmwhz9",
        "outputId": "8f0f01ad-660b-4154-c5c2-72a9ad1451b1"
      },
      "execution_count": null,
      "outputs": [
        {
          "output_type": "stream",
          "name": "stdout",
          "text": [
            "Tren 'Ice Bucket Challenge' Viral Lagi, Kini Fokusnya ke Kesehatan Mental\n",
            "Robbie Williams Cemas Bertemu Orang: Please Jangan Asal Foto\n",
            "Dewi Gita Putuskan Berhijab, Berharap Bisa Istikamah\n",
            "Menkes Bolehkan Dokter PPDS Praktik Umum untuk Dapat Penghasilan\n",
            "Menkes Soroti Jam Kerja Dokter PPDS Berlebihan, Bisa Ganggu Kesehatan Mental\n",
            "Tak Mampu Bayar Bon Minum di Bar, Wanita Ini Dipaksa Makan Feses\n",
            "Aksi Renang 12 Km Pria Nigeria Tingkatkan Kesadaran Kesehatan Mental\n",
            "8 Foto Meme Gambaran Depresi Orang Dewasa, Jangan Menyerah!\n",
            "Infografis: Merasakan Gejala Awal Kesehatan Mental Ini? Cari Bantuan Healing Ya!\n",
            "10 Meme Gambarkan Jatuh Bangun Tetap Waras, Semangat Bestie!\n",
            "Di Balik Jenakanya, Begini Curhat Fitri Tropica soal Pentingnya Sehat Pikiran\n",
            "Menkes Singgung Ada Pihak yang Tak Ingin Tes Kejiwaan PPDS Dilakukan\n",
            "Calon Dokter Spesialis Wajib Tes Psikologi, Buntut Kasus Pemerkosaan di RS\n",
            "Riwayat Sakit Paus Fransiskus sebelum Wafat, Sebagian Paru Diangkat Sejak Muda\n",
            "Gen Z dan Tekanan Media Sosial\n"
          ]
        }
      ]
    },
    {
      "cell_type": "code",
      "source": [
        "import requests\n",
        "from bs4 import BeautifulSoup\n",
        "import pandas as pd\n",
        "\n",
        "# URL utama yang mau diambil datanya\n",
        "url = 'https://www.detik.com/tag/kesehatan-mental'\n",
        "\n",
        "# Ambil isi halaman\n",
        "res = requests.get(url)\n",
        "soup = BeautifulSoup(res.text, 'html.parser')\n",
        "\n",
        "# Cari semua artikel (struktur situs bisa berubah, ini berdasarkan pengamatan saat ini)\n",
        "artikel_list = soup.find_all('article')\n",
        "\n",
        "# Simpan data ke list\n",
        "data = []\n",
        "\n",
        "for artikel in artikel_list:\n",
        "    # ambil judul\n",
        "    judul_tag = artikel.find('h2')\n",
        "    if judul_tag:\n",
        "        judul = judul_tag.text.strip()\n",
        "    else:\n",
        "        continue\n",
        "\n",
        "    # ambil link\n",
        "    link_tag = artikel.find('a')\n",
        "    link = link_tag['href'] if link_tag else ''\n",
        "\n",
        "    # simpan ke list\n",
        "    data.append({'judul': judul, 'link': link})\n",
        "\n",
        "# Simpan ke CSV\n",
        "df = pd.DataFrame(data)\n",
        "os.makedirs('C:/Users/LENOVO/Downloads', exist_ok=True)\n",
        "\n",
        "print(\"Data berhasil disimpan ke 'artikel_kesehatan_mental.csv'\")"
      ],
      "metadata": {
        "colab": {
          "base_uri": "https://localhost:8080/"
        },
        "id": "lwPvrk4pw-Te",
        "outputId": "b8f8d289-b633-4978-85aa-a2c9f7699cfb"
      },
      "execution_count": null,
      "outputs": [
        {
          "output_type": "stream",
          "name": "stdout",
          "text": [
            "Data berhasil disimpan ke 'artikel_kesehatan_mental.csv'\n"
          ]
        }
      ]
    },
    {
      "cell_type": "code",
      "source": [
        "df.to_csv('C:/Users/LENOVO/Downloads/artikel_kesehatan_mental.csv', index=False)"
      ],
      "metadata": {
        "id": "2JniMaH8xXWB"
      },
      "execution_count": null,
      "outputs": []
    },
    {
      "cell_type": "code",
      "source": [
        "from google.colab import files\n",
        "files.download('artikel_kesehatan_mental.csv')"
      ],
      "metadata": {
        "id": "mE2KZVo66kzl",
        "outputId": "8ac4fdbf-4127-45f4-a29e-fb80e7698202",
        "colab": {
          "base_uri": "https://localhost:8080/",
          "height": 17
        }
      },
      "execution_count": null,
      "outputs": [
        {
          "output_type": "display_data",
          "data": {
            "text/plain": [
              "<IPython.core.display.Javascript object>"
            ],
            "application/javascript": [
              "\n",
              "    async function download(id, filename, size) {\n",
              "      if (!google.colab.kernel.accessAllowed) {\n",
              "        return;\n",
              "      }\n",
              "      const div = document.createElement('div');\n",
              "      const label = document.createElement('label');\n",
              "      label.textContent = `Downloading \"${filename}\": `;\n",
              "      div.appendChild(label);\n",
              "      const progress = document.createElement('progress');\n",
              "      progress.max = size;\n",
              "      div.appendChild(progress);\n",
              "      document.body.appendChild(div);\n",
              "\n",
              "      const buffers = [];\n",
              "      let downloaded = 0;\n",
              "\n",
              "      const channel = await google.colab.kernel.comms.open(id);\n",
              "      // Send a message to notify the kernel that we're ready.\n",
              "      channel.send({})\n",
              "\n",
              "      for await (const message of channel.messages) {\n",
              "        // Send a message to notify the kernel that we're ready.\n",
              "        channel.send({})\n",
              "        if (message.buffers) {\n",
              "          for (const buffer of message.buffers) {\n",
              "            buffers.push(buffer);\n",
              "            downloaded += buffer.byteLength;\n",
              "            progress.value = downloaded;\n",
              "          }\n",
              "        }\n",
              "      }\n",
              "      const blob = new Blob(buffers, {type: 'application/binary'});\n",
              "      const a = document.createElement('a');\n",
              "      a.href = window.URL.createObjectURL(blob);\n",
              "      a.download = filename;\n",
              "      div.appendChild(a);\n",
              "      a.click();\n",
              "      div.remove();\n",
              "    }\n",
              "  "
            ]
          },
          "metadata": {}
        },
        {
          "output_type": "display_data",
          "data": {
            "text/plain": [
              "<IPython.core.display.Javascript object>"
            ],
            "application/javascript": [
              "download(\"download_99276463-cf3c-4db3-a6c1-632fba7a9ca9\", \"artikel_kesehatan_mental.csv\", 2893)"
            ]
          },
          "metadata": {}
        }
      ]
    }
  ]
}